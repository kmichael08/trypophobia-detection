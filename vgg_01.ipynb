{
 "cells": [
  {
   "cell_type": "code",
   "execution_count": 136,
   "metadata": {},
   "outputs": [
    {
     "name": "stdout",
     "output_type": "stream",
     "text": [
      "Collecting quiver_engine\n",
      "  Downloading quiver_engine-0.1.4.1.4.tar.gz (398kB)\n",
      "\u001b[K    100% |████████████████████████████████| 399kB 3.0MB/s eta 0:00:01\n",
      "\u001b[?25hRequirement already satisfied: keras in /usr/local/lib/python3.5/dist-packages (from quiver_engine)\n",
      "Collecting tensorflow (from quiver_engine)\n",
      "  Downloading tensorflow-1.4.0-cp35-cp35m-manylinux1_x86_64.whl (40.7MB)\n",
      "\u001b[K    100% |████████████████████████████████| 40.7MB 37kB/s  eta 0:00:01    72% |███████████████████████▏        | 29.6MB 67.8MB/s eta 0:00:01\n",
      "\u001b[?25hRequirement already satisfied: flask in /usr/local/lib/python3.5/dist-packages (from quiver_engine)\n",
      "Collecting flask_cors (from quiver_engine)\n",
      "  Downloading Flask_Cors-3.0.3-py2.py3-none-any.whl\n",
      "Collecting gevent (from quiver_engine)\n",
      "  Downloading gevent-1.2.2-cp35-cp35m-manylinux1_x86_64.whl (1.7MB)\n",
      "\u001b[K    100% |████████████████████████████████| 1.7MB 890kB/s eta 0:00:01\n",
      "\u001b[?25hRequirement already satisfied: numpy in /usr/local/lib/python3.5/dist-packages (from quiver_engine)\n",
      "Requirement already satisfied: pillow in /usr/local/lib/python3.5/dist-packages (from quiver_engine)\n",
      "Requirement already satisfied: pyyaml in /usr/local/lib/python3.5/dist-packages (from keras->quiver_engine)\n",
      "Requirement already satisfied: six in /usr/local/lib/python3.5/dist-packages (from keras->quiver_engine)\n",
      "Requirement already satisfied: theano in /usr/local/lib/python3.5/dist-packages (from keras->quiver_engine)\n",
      "Collecting tensorflow-tensorboard<0.5.0,>=0.4.0rc1 (from tensorflow->quiver_engine)\n",
      "  Downloading tensorflow_tensorboard-0.4.0rc3-py3-none-any.whl (1.7MB)\n",
      "\u001b[K    100% |████████████████████████████████| 1.7MB 896kB/s eta 0:00:01\n",
      "\u001b[?25hRequirement already satisfied: wheel>=0.26 in /usr/local/lib/python3.5/dist-packages (from tensorflow->quiver_engine)\n",
      "Requirement already satisfied: protobuf>=3.3.0 in /usr/local/lib/python3.5/dist-packages (from tensorflow->quiver_engine)\n",
      "Requirement already satisfied: enum34>=1.1.6 in /usr/local/lib/python3.5/dist-packages (from tensorflow->quiver_engine)\n",
      "Requirement already satisfied: itsdangerous>=0.21 in /usr/local/lib/python3.5/dist-packages (from flask->quiver_engine)\n",
      "Requirement already satisfied: click>=2.0 in /usr/local/lib/python3.5/dist-packages (from flask->quiver_engine)\n",
      "Requirement already satisfied: Jinja2>=2.4 in /usr/local/lib/python3.5/dist-packages (from flask->quiver_engine)\n",
      "Requirement already satisfied: Werkzeug>=0.7 in /usr/local/lib/python3.5/dist-packages (from flask->quiver_engine)\n",
      "Collecting greenlet>=0.4.10 (from gevent->quiver_engine)\n",
      "  Downloading greenlet-0.4.12-cp35-cp35m-manylinux1_x86_64.whl (42kB)\n",
      "\u001b[K    100% |████████████████████████████████| 51kB 13.0MB/s ta 0:00:01\n",
      "\u001b[?25hRequirement already satisfied: olefile in /usr/local/lib/python3.5/dist-packages (from pillow->quiver_engine)\n",
      "Requirement already satisfied: scipy>=0.14 in /usr/local/lib/python3.5/dist-packages (from theano->keras->quiver_engine)\n",
      "Requirement already satisfied: markdown>=2.6.8 in /usr/local/lib/python3.5/dist-packages (from tensorflow-tensorboard<0.5.0,>=0.4.0rc1->tensorflow->quiver_engine)\n",
      "Collecting bleach==1.5.0 (from tensorflow-tensorboard<0.5.0,>=0.4.0rc1->tensorflow->quiver_engine)\n",
      "  Downloading bleach-1.5.0-py2.py3-none-any.whl\n",
      "Collecting html5lib==0.9999999 (from tensorflow-tensorboard<0.5.0,>=0.4.0rc1->tensorflow->quiver_engine)\n",
      "  Downloading html5lib-0.9999999.tar.gz (889kB)\n",
      "\u001b[K    100% |████████████████████████████████| 890kB 1.8MB/s eta 0:00:01\n",
      "\u001b[?25hRequirement already satisfied: setuptools in /usr/local/lib/python3.5/dist-packages (from protobuf>=3.3.0->tensorflow->quiver_engine)\n",
      "Requirement already satisfied: MarkupSafe>=0.23 in /usr/local/lib/python3.5/dist-packages (from Jinja2>=2.4->flask->quiver_engine)\n",
      "Building wheels for collected packages: quiver-engine, html5lib\n",
      "  Running setup.py bdist_wheel for quiver-engine ... \u001b[?25ldone\n",
      "\u001b[?25h  Stored in directory: /root/.cache/pip/wheels/a1/73/eb/26e204f8cfdf9cc242dd7bae6baa5b48859ce4cf28578387c7\n",
      "  Running setup.py bdist_wheel for html5lib ... \u001b[?25ldone\n",
      "\u001b[?25h  Stored in directory: /root/.cache/pip/wheels/6f/85/6c/56b8e1292c6214c4eb73b9dda50f53e8e977bf65989373c962\n",
      "Successfully built quiver-engine html5lib\n",
      "Installing collected packages: html5lib, bleach, tensorflow-tensorboard, tensorflow, flask-cors, greenlet, gevent, quiver-engine\n",
      "  Found existing installation: html5lib 0.999999999\n",
      "    Uninstalling html5lib-0.999999999:\n",
      "      Successfully uninstalled html5lib-0.999999999\n",
      "  Found existing installation: bleach 2.0.0\n",
      "    Uninstalling bleach-2.0.0:\n",
      "      Successfully uninstalled bleach-2.0.0\n",
      "Successfully installed bleach-1.5.0 flask-cors-3.0.3 gevent-1.2.2 greenlet-0.4.12 html5lib-0.9999999 quiver-engine-0.1.4.1.4 tensorflow-1.4.0 tensorflow-tensorboard-0.4.0rc3\n"
     ]
    }
   ],
   "source": [
    "!pip install quiver_engine"
   ]
  },
  {
   "cell_type": "code",
   "execution_count": 137,
   "metadata": {
    "collapsed": true
   },
   "outputs": [],
   "source": [
    "from quiver_engine import server"
   ]
  },
  {
   "cell_type": "code",
   "execution_count": null,
   "metadata": {
    "collapsed": true
   },
   "outputs": [],
   "source": []
  }
 ],
 "metadata": {
  "kernelspec": {
   "display_name": "Neptune",
   "language": "",
   "name": "neptune-kernel"
  },
  "language_info": {
   "codemirror_mode": {
    "name": "ipython",
    "version": 3
   },
   "file_extension": ".py",
   "mimetype": "text/x-python",
   "name": "python",
   "nbconvert_exporter": "python",
   "pygments_lexer": "ipython3",
   "version": "3.5.2"
  }
 },
 "nbformat": 4,
 "nbformat_minor": 2
}
