{
 "cells": [
  {
   "cell_type": "code",
   "execution_count": 1,
   "metadata": {},
   "outputs": [
    {
     "name": "stdout",
     "output_type": "stream",
     "text": [
      "\u001b[0m\u001b[34;42mtrain\u001b[0m/  Untitled.ipynb  \u001b[34;42mvalid\u001b[0m/\r\n"
     ]
    }
   ],
   "source": [
    "ls tryponet_set2/"
   ]
  },
  {
   "cell_type": "code",
   "execution_count": 2,
   "metadata": {},
   "outputs": [],
   "source": [
    "import pandas as pd\n",
    "import numpy as np\n",
    "import h5py\n",
    "import os\n",
    "import cv2\n",
    "\n",
    "dataset_path = 'tryponet_set2'\n",
    "train_norm = 'train/norm'\n",
    "train_trypo = 'train/trypo'\n",
    "valid_norm = 'valid/norm'\n",
    "valid_trypo = 'valid/trypo'\n",
    "\n",
    "example_rate = 1.0\n",
    "\n",
    "train_norm_path = os.path.join(dataset_path, train_norm)\n",
    "train_norm_list = os.listdir(train_norm_path)\n",
    "train_norm_list = train_norm_list[:int(len(train_norm_list) * example_rate)]\n",
    "\n",
    "train_trypo_path = os.path.join(dataset_path, train_trypo)\n",
    "train_trypo_list = os.listdir(train_trypo_path)\n",
    "train_trypo_list = train_trypo_list[:int(len(train_trypo_list) * example_rate)]\n",
    "\n",
    "valid_norm_path = os.path.join(dataset_path, valid_norm)\n",
    "valid_norm_list = os.listdir(valid_norm_path)\n",
    "\n",
    "valid_trypo_path = os.path.join(dataset_path, valid_trypo)\n",
    "valid_trypo_list = os.listdir(valid_trypo_path)\n",
    "\n",
    "train_norm_shape = (len(train_norm_list), 224, 224, 3)\n",
    "train_trypo_shape = (len(train_trypo_list), 224, 224, 3)\n",
    "valid_norm_shape = (len(valid_norm_list), 224, 224, 3)\n",
    "valid_trypo_shape = (len(valid_trypo_list), 224, 224, 3)"
   ]
  },
  {
   "cell_type": "code",
   "execution_count": 3,
   "metadata": {},
   "outputs": [
    {
     "name": "stdout",
     "output_type": "stream",
     "text": [
      "tryponet_set2/train/norm/8aae3a584b0b81a990fbd540f4f33e21.png\n"
     ]
    }
   ],
   "source": [
    "hdf5_file = h5py.File('tryp.hdf5', mode = 'w')\n",
    "hdf5_file.create_dataset(\"train_norm\", train_norm_shape, np.uint8)\n",
    "hdf5_file.create_dataset(\"train_trypo\", train_trypo_shape, np.uint8)\n",
    "hdf5_file.create_dataset(\"valid_norm\", valid_norm_shape, np.uint8)\n",
    "hdf5_file.create_dataset(\"valid_trypo\", valid_trypo_shape, np.uint8)\n",
    "                                             \n",
    "print(os.path.join(train_norm_path, train_norm_list[0]))"
   ]
  },
  {
   "cell_type": "code",
   "execution_count": 4,
   "metadata": {},
   "outputs": [
    {
     "name": "stderr",
     "output_type": "stream",
     "text": [
      "100%|██████████| 10068/10068 [00:30<00:00, 330.84it/s]\n",
      "100%|██████████| 10068/10068 [00:04<00:00, 2352.79it/s]\n"
     ]
    }
   ],
   "source": [
    "from tqdm import tqdm\n",
    "\n",
    "def get_images(file_list, path):\n",
    "    return [cv2.imread(os.path.join(path, image)) for image in tqdm(file_list)]\n",
    "\n",
    "def resize_images(images, size=(224, 224)):\n",
    "    for i in tqdm(range(len(images))):\n",
    "        images[i] = cv2.resize(images[i], size)\n",
    "    return images\n",
    "\n",
    "def write_as_h5(images, dataset_name, file_name):\n",
    "    for i in tqdm(range(len(images))):\n",
    "        file_name[dataset_name][i,...] = images[i]\n",
    "    return file_name[dataset_name]\n",
    "\n",
    "train_norm_images = get_images(train_norm_list, train_norm_path)\n",
    "train_norm_images_res = resize_images(train_norm_images)\n"
   ]
  },
  {
   "cell_type": "code",
   "execution_count": 5,
   "metadata": {},
   "outputs": [
    {
     "name": "stderr",
     "output_type": "stream",
     "text": [
      "100%|██████████| 10068/10068 [00:08<00:00, 1201.45it/s]\n"
     ]
    }
   ],
   "source": [
    "hdf5_file[\"train_norm\"][...] = write_as_h5(\n",
    "                train_norm_images_res, \"train_norm\", hdf5_file)"
   ]
  },
  {
   "cell_type": "code",
   "execution_count": 6,
   "metadata": {},
   "outputs": [
    {
     "name": "stderr",
     "output_type": "stream",
     "text": [
      "100%|██████████| 5816/5816 [00:20<00:00, 287.54it/s]\n",
      "100%|██████████| 5816/5816 [00:02<00:00, 2359.87it/s]\n",
      "100%|██████████| 5816/5816 [00:04<00:00, 1285.32it/s]\n",
      "100%|██████████| 500/500 [00:01<00:00, 321.96it/s]\n",
      "100%|██████████| 500/500 [00:00<00:00, 2193.38it/s]\n",
      "100%|██████████| 500/500 [00:00<00:00, 2177.06it/s]\n",
      "100%|██████████| 500/500 [00:01<00:00, 289.83it/s]\n",
      "100%|██████████| 500/500 [00:00<00:00, 2245.37it/s]\n",
      "100%|██████████| 500/500 [00:00<00:00, 691.00it/s] \n"
     ]
    }
   ],
   "source": [
    "train_trypo_images = get_images(train_trypo_list, train_trypo_path)\n",
    "train_trypo_images_res = resize_images(train_trypo_images)\n",
    "hdf5_file[\"train_trypo\"][...] = write_as_h5(\n",
    "                train_trypo_images_res, \"train_trypo\", hdf5_file)\n",
    "\n",
    "valid_norm_images = get_images(valid_norm_list, valid_norm_path)\n",
    "valid_norm_images_res = resize_images(valid_norm_images)\n",
    "hdf5_file[\"valid_norm\"][...] = write_as_h5(\n",
    "                valid_norm_images_res, \"valid_norm\", hdf5_file)\n",
    "\n",
    "valid_trypo_images = get_images(valid_trypo_list, valid_trypo_path)\n",
    "valid_trypo_images_res = resize_images(valid_trypo_images)\n",
    "hdf5_file[\"valid_trypo\"][...] = write_as_h5(\n",
    "                valid_trypo_images_res, \"valid_trypo\", hdf5_file)\n"
   ]
  },
  {
   "cell_type": "code",
   "execution_count": null,
   "metadata": {},
   "outputs": [],
   "source": []
  },
  {
   "cell_type": "code",
   "execution_count": null,
   "metadata": {
    "collapsed": true
   },
   "outputs": [],
   "source": []
  }
 ],
 "metadata": {
  "kernelspec": {
   "display_name": "Python 3",
   "language": "python",
   "name": "python3"
  },
  "language_info": {
   "codemirror_mode": {
    "name": "ipython",
    "version": 3
   },
   "file_extension": ".py",
   "mimetype": "text/x-python",
   "name": "python",
   "nbconvert_exporter": "python",
   "pygments_lexer": "ipython3",
   "version": "3.6.3"
  }
 },
 "nbformat": 4,
 "nbformat_minor": 2
}
